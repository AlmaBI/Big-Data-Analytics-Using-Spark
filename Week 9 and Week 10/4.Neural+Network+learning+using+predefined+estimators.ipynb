{
 "cells": [
  {
   "cell_type": "code",
   "execution_count": 1,
   "metadata": {
    "ExecuteTime": {
     "end_time": "2018-06-05T19:05:32.915350Z",
     "start_time": "2018-06-05T19:05:31.778023Z"
    },
    "slideshow": {
     "slide_type": "skip"
    }
   },
   "outputs": [
    {
     "name": "stderr",
     "output_type": "stream",
     "text": [
      "/usr/local/lib/python3.6/site-packages/h5py/__init__.py:36: FutureWarning: Conversion of the second argument of issubdtype from `float` to `np.floating` is deprecated. In future, it will be treated as `np.float64 == np.dtype(float).type`.\n",
      "  from ._conv import register_converters as _register_converters\n"
     ]
    }
   ],
   "source": [
    "import tensorflow as tf\n",
    "import numpy as np\n",
    "\n",
    "import warnings\n",
    "## Tensorflow produces a lot of warnings. We generally want to suppress them. The below code does exactly that. \n",
    "warnings.filterwarnings('ignore')\n",
    "tf.logging.set_verbosity(tf.logging.ERROR)"
   ]
  },
  {
   "cell_type": "markdown",
   "metadata": {
    "slideshow": {
     "slide_type": "slide"
    }
   },
   "source": [
    "## Using predefined estimators\n",
    "In this notebook we recreate the neural network defined first in notebook [3.Neural-Networks.ipynb](3.Neural-Networks.ipynb)  \n",
    "using the predefined estimator `DNNClassifier`"
   ]
  },
  {
   "cell_type": "markdown",
   "metadata": {
    "slideshow": {
     "slide_type": "subslide"
    }
   },
   "source": [
    "## Benefits of Estimators\n",
    "\n",
    "- Estimator-based models are independent of operating environment\n",
    "    - local host\n",
    "    - GPUs\n",
    "    - CPU clusters"
   ]
  },
  {
   "cell_type": "markdown",
   "metadata": {
    "slideshow": {
     "slide_type": "subslide"
    }
   },
   "source": [
    "### More benefits\n",
    "- Simplify model sharing between developers\n",
    "- State of the art model architectures with more intuitive high-level code"
   ]
  },
  {
   "cell_type": "markdown",
   "metadata": {
    "slideshow": {
     "slide_type": "skip"
    }
   },
   "source": [
    "Consult https://www.tensorflow.org/programmers_guide/estimators for more advantages of using Estimators as described by the developers of TensorFlow."
   ]
  },
  {
   "cell_type": "markdown",
   "metadata": {
    "slideshow": {
     "slide_type": "subslide"
    }
   },
   "source": [
    "## Read Data\n",
    "The MNist dataset is available from within TensorFlow tutorials."
   ]
  },
  {
   "cell_type": "code",
   "execution_count": 2,
   "metadata": {
    "ExecuteTime": {
     "end_time": "2018-06-05T19:36:46.775849Z",
     "start_time": "2018-06-05T19:36:46.080280Z"
    },
    "slideshow": {
     "slide_type": "fragment"
    }
   },
   "outputs": [
    {
     "name": "stdout",
     "output_type": "stream",
     "text": [
      "Extracting MNIST_data/train-images-idx3-ubyte.gz\n",
      "Extracting MNIST_data/train-labels-idx1-ubyte.gz\n",
      "Extracting MNIST_data/t10k-images-idx3-ubyte.gz\n",
      "Extracting MNIST_data/t10k-labels-idx1-ubyte.gz\n"
     ]
    }
   ],
   "source": [
    "from tensorflow.examples.tutorials.mnist import input_data\n",
    "mnist = input_data.read_data_sets('MNIST_data')\n",
    "\n",
    "# Wrap input as a function (THE \"input function\" will be defined below)\n",
    "def input(dataset):\n",
    "    return dataset.images, dataset.labels.astype(np.int32)"
   ]
  },
  {
   "cell_type": "markdown",
   "metadata": {
    "slideshow": {
     "slide_type": "subslide"
    }
   },
   "source": [
    "##  Define feature columns"
   ]
  },
  {
   "cell_type": "code",
   "execution_count": 3,
   "metadata": {
    "ExecuteTime": {
     "end_time": "2018-06-05T19:05:43.474804Z",
     "start_time": "2018-06-05T19:05:43.470582Z"
    },
    "collapsed": true,
    "slideshow": {
     "slide_type": "fragment"
    }
   },
   "outputs": [],
   "source": [
    "# Specify feature\n",
    "feature_columns = [tf.feature_column.numeric_column(\"x\", shape=[28, 28])]"
   ]
  },
  {
   "cell_type": "markdown",
   "metadata": {
    "slideshow": {
     "slide_type": "subslide"
    }
   },
   "source": [
    "## Define Neural Network"
   ]
  },
  {
   "cell_type": "code",
   "execution_count": 4,
   "metadata": {
    "ExecuteTime": {
     "end_time": "2018-06-05T19:50:09.313970Z",
     "start_time": "2018-06-05T19:50:09.306304Z"
    },
    "slideshow": {
     "slide_type": "fragment"
    }
   },
   "outputs": [],
   "source": [
    "# Build 2 layer DNN classifier\n",
    "classifier = tf.estimator.DNNClassifier(\n",
    "    feature_columns=feature_columns,\n",
    "    hidden_units=[256, 256],\n",
    "    optimizer=tf.train.AdamOptimizer(1e-4),\n",
    "    n_classes=10,\n",
    "    dropout=0.1,\n",
    "    model_dir=\"./tmp/mnist_model_256_256\"   # Location for storing checkpoints.\n",
    ")"
   ]
  },
  {
   "cell_type": "markdown",
   "metadata": {
    "slideshow": {
     "slide_type": "subslide"
    }
   },
   "source": [
    "## Define training input function\n",
    "* Supplies data for training, evaluation, prediction\n",
    "* Should yield tuples of:\n",
    "    - Python dict `features`: key = name of feature, value = array of feature values\n",
    "    - Array `label` : label for every example"
   ]
  },
  {
   "cell_type": "code",
   "execution_count": 5,
   "metadata": {
    "ExecuteTime": {
     "end_time": "2018-06-05T19:51:48.515998Z",
     "start_time": "2018-06-05T19:51:48.508173Z"
    },
    "collapsed": true,
    "slideshow": {
     "slide_type": "fragment"
    }
   },
   "outputs": [],
   "source": [
    "# Define the training inputs\n",
    "train_input_fn = tf.estimator.inputs.numpy_input_fn(\n",
    "    x={\"x\": input(mnist.train)[0]},\n",
    "    y=input(mnist.train)[1],\n",
    "    num_epochs=None,\n",
    "    batch_size=50,\n",
    "    shuffle=True\n",
    ")"
   ]
  },
  {
   "cell_type": "markdown",
   "metadata": {},
   "source": [
    "## Train the neural network\n",
    "* Checkpoint used for \"warm start\"\n",
    "* Checkpoints saved"
   ]
  },
  {
   "cell_type": "code",
   "execution_count": 6,
   "metadata": {
    "ExecuteTime": {
     "end_time": "2018-06-05T19:52:20.034065Z",
     "start_time": "2018-06-05T19:51:49.814922Z"
    },
    "scrolled": true,
    "slideshow": {
     "slide_type": "subslide"
    }
   },
   "outputs": [
    {
     "name": "stdout",
     "output_type": "stream",
     "text": [
      "WARNING:tensorflow:From /usr/local/lib/python3.6/site-packages/tensorflow/python/estimator/inputs/queues/feeding_queue_runner.py:62: QueueRunner.__init__ (from tensorflow.python.training.queue_runner_impl) is deprecated and will be removed in a future version.\n",
      "Instructions for updating:\n",
      "To construct input pipelines, use the `tf.data` module.\n",
      "WARNING:tensorflow:From /usr/local/lib/python3.6/site-packages/tensorflow/python/estimator/inputs/queues/feeding_functions.py:500: add_queue_runner (from tensorflow.python.training.queue_runner_impl) is deprecated and will be removed in a future version.\n",
      "Instructions for updating:\n",
      "To construct input pipelines, use the `tf.data` module.\n",
      "INFO:tensorflow:Calling model_fn.\n",
      "INFO:tensorflow:Done calling model_fn.\n",
      "INFO:tensorflow:Create CheckpointSaverHook.\n",
      "INFO:tensorflow:Graph was finalized.\n",
      "INFO:tensorflow:Restoring parameters from ./tmp/mnist_model_256_256/model.ckpt-21000\n",
      "INFO:tensorflow:Running local_init_op.\n",
      "INFO:tensorflow:Done running local_init_op.\n",
      "WARNING:tensorflow:From /usr/local/lib/python3.6/site-packages/tensorflow/python/training/monitored_session.py:804: start_queue_runners (from tensorflow.python.training.queue_runner_impl) is deprecated and will be removed in a future version.\n",
      "Instructions for updating:\n",
      "To construct input pipelines, use the `tf.data` module.\n",
      "INFO:tensorflow:Saving checkpoints for 21000 into ./tmp/mnist_model_256_256/model.ckpt.\n",
      "INFO:tensorflow:loss = 0.513102, step = 21001\n",
      "INFO:tensorflow:global_step/sec: 393.94\n",
      "INFO:tensorflow:loss = 0.68973756, step = 21101 (0.255 sec)\n",
      "INFO:tensorflow:global_step/sec: 474.421\n",
      "INFO:tensorflow:loss = 5.1153193, step = 21201 (0.211 sec)\n",
      "INFO:tensorflow:global_step/sec: 476.105\n",
      "INFO:tensorflow:loss = 1.071287, step = 21301 (0.210 sec)\n",
      "INFO:tensorflow:global_step/sec: 473.55\n",
      "INFO:tensorflow:loss = 0.6703429, step = 21401 (0.211 sec)\n",
      "INFO:tensorflow:global_step/sec: 474.245\n",
      "INFO:tensorflow:loss = 1.9068491, step = 21501 (0.211 sec)\n",
      "INFO:tensorflow:global_step/sec: 472.101\n",
      "INFO:tensorflow:loss = 1.5532246, step = 21601 (0.212 sec)\n",
      "INFO:tensorflow:global_step/sec: 467.704\n",
      "INFO:tensorflow:loss = 1.1109177, step = 21701 (0.214 sec)\n",
      "INFO:tensorflow:global_step/sec: 474.936\n",
      "INFO:tensorflow:loss = 2.3537476, step = 21801 (0.211 sec)\n",
      "INFO:tensorflow:global_step/sec: 455.027\n",
      "INFO:tensorflow:loss = 1.3494816, step = 21901 (0.220 sec)\n",
      "INFO:tensorflow:global_step/sec: 473.72\n",
      "INFO:tensorflow:loss = 0.63988125, step = 22001 (0.211 sec)\n",
      "INFO:tensorflow:global_step/sec: 475.659\n",
      "INFO:tensorflow:loss = 0.5037231, step = 22101 (0.210 sec)\n",
      "INFO:tensorflow:global_step/sec: 471.566\n",
      "INFO:tensorflow:loss = 2.1177359, step = 22201 (0.212 sec)\n",
      "INFO:tensorflow:global_step/sec: 471.997\n",
      "INFO:tensorflow:loss = 0.588577, step = 22301 (0.212 sec)\n",
      "INFO:tensorflow:global_step/sec: 476.003\n",
      "INFO:tensorflow:loss = 1.6200683, step = 22401 (0.210 sec)\n",
      "INFO:tensorflow:global_step/sec: 471.419\n",
      "INFO:tensorflow:loss = 4.952274, step = 22501 (0.212 sec)\n",
      "INFO:tensorflow:global_step/sec: 472.673\n",
      "INFO:tensorflow:loss = 0.8576289, step = 22601 (0.212 sec)\n",
      "INFO:tensorflow:global_step/sec: 468.583\n",
      "INFO:tensorflow:loss = 0.23520352, step = 22701 (0.214 sec)\n",
      "INFO:tensorflow:global_step/sec: 470.785\n",
      "INFO:tensorflow:loss = 0.72593004, step = 22801 (0.212 sec)\n",
      "INFO:tensorflow:global_step/sec: 465.109\n",
      "INFO:tensorflow:loss = 0.042162336, step = 22901 (0.215 sec)\n",
      "INFO:tensorflow:global_step/sec: 470.436\n",
      "INFO:tensorflow:loss = 0.4264472, step = 23001 (0.213 sec)\n",
      "INFO:tensorflow:global_step/sec: 477.655\n",
      "INFO:tensorflow:loss = 1.2475073, step = 23101 (0.209 sec)\n",
      "INFO:tensorflow:global_step/sec: 470.77\n",
      "INFO:tensorflow:loss = 0.23636661, step = 23201 (0.212 sec)\n",
      "INFO:tensorflow:global_step/sec: 464.904\n",
      "INFO:tensorflow:loss = 0.15789518, step = 23301 (0.215 sec)\n",
      "INFO:tensorflow:global_step/sec: 469.16\n",
      "INFO:tensorflow:loss = 3.0082347, step = 23401 (0.213 sec)\n",
      "INFO:tensorflow:global_step/sec: 454.297\n",
      "INFO:tensorflow:loss = 0.1348577, step = 23501 (0.220 sec)\n",
      "INFO:tensorflow:global_step/sec: 442.012\n",
      "INFO:tensorflow:loss = 0.46543112, step = 23601 (0.226 sec)\n",
      "INFO:tensorflow:global_step/sec: 445.342\n",
      "INFO:tensorflow:loss = 0.29281157, step = 23701 (0.224 sec)\n",
      "INFO:tensorflow:global_step/sec: 464.524\n",
      "INFO:tensorflow:loss = 0.950946, step = 23801 (0.215 sec)\n",
      "INFO:tensorflow:global_step/sec: 473.557\n",
      "INFO:tensorflow:loss = 0.2838711, step = 23901 (0.211 sec)\n",
      "INFO:tensorflow:global_step/sec: 467.509\n",
      "INFO:tensorflow:loss = 1.1843666, step = 24001 (0.214 sec)\n",
      "INFO:tensorflow:global_step/sec: 474.653\n",
      "INFO:tensorflow:loss = 0.7569769, step = 24101 (0.211 sec)\n",
      "INFO:tensorflow:global_step/sec: 476.419\n",
      "INFO:tensorflow:loss = 3.028346, step = 24201 (0.210 sec)\n",
      "INFO:tensorflow:global_step/sec: 473.184\n",
      "INFO:tensorflow:loss = 0.3370205, step = 24301 (0.211 sec)\n",
      "INFO:tensorflow:global_step/sec: 472.633\n",
      "INFO:tensorflow:loss = 1.3167391, step = 24401 (0.212 sec)\n",
      "INFO:tensorflow:global_step/sec: 473.283\n",
      "INFO:tensorflow:loss = 0.27457172, step = 24501 (0.211 sec)\n",
      "INFO:tensorflow:global_step/sec: 475.396\n",
      "INFO:tensorflow:loss = 0.84727126, step = 24601 (0.210 sec)\n",
      "INFO:tensorflow:global_step/sec: 464.636\n",
      "INFO:tensorflow:loss = 0.4438807, step = 24701 (0.215 sec)\n",
      "INFO:tensorflow:global_step/sec: 475.079\n",
      "INFO:tensorflow:loss = 0.54360837, step = 24801 (0.211 sec)\n",
      "INFO:tensorflow:global_step/sec: 478.262\n",
      "INFO:tensorflow:loss = 0.13602549, step = 24901 (0.209 sec)\n",
      "INFO:tensorflow:global_step/sec: 480.54\n",
      "INFO:tensorflow:loss = 0.63031125, step = 25001 (0.208 sec)\n",
      "INFO:tensorflow:global_step/sec: 477.027\n",
      "INFO:tensorflow:loss = 0.03713102, step = 25101 (0.210 sec)\n",
      "INFO:tensorflow:global_step/sec: 474.253\n",
      "INFO:tensorflow:loss = 2.2762375, step = 25201 (0.211 sec)\n",
      "INFO:tensorflow:global_step/sec: 476.408\n",
      "INFO:tensorflow:loss = 0.5560071, step = 25301 (0.210 sec)\n",
      "INFO:tensorflow:global_step/sec: 476.812\n",
      "INFO:tensorflow:loss = 0.28986365, step = 25401 (0.210 sec)\n",
      "INFO:tensorflow:global_step/sec: 473.727\n",
      "INFO:tensorflow:loss = 0.20919673, step = 25501 (0.211 sec)\n",
      "INFO:tensorflow:global_step/sec: 475.115\n",
      "INFO:tensorflow:loss = 2.0774953, step = 25601 (0.210 sec)\n",
      "INFO:tensorflow:global_step/sec: 474.342\n",
      "INFO:tensorflow:loss = 0.20249403, step = 25701 (0.211 sec)\n",
      "INFO:tensorflow:global_step/sec: 472.051\n",
      "INFO:tensorflow:loss = 0.39192846, step = 25801 (0.212 sec)\n",
      "INFO:tensorflow:global_step/sec: 459.516\n",
      "INFO:tensorflow:loss = 0.20025715, step = 25901 (0.217 sec)\n",
      "INFO:tensorflow:global_step/sec: 474.108\n",
      "INFO:tensorflow:loss = 0.7887338, step = 26001 (0.211 sec)\n",
      "INFO:tensorflow:global_step/sec: 468.71\n",
      "INFO:tensorflow:loss = 0.06982001, step = 26101 (0.213 sec)\n",
      "INFO:tensorflow:global_step/sec: 473.844\n",
      "INFO:tensorflow:loss = 0.10540581, step = 26201 (0.211 sec)\n",
      "INFO:tensorflow:global_step/sec: 478.823\n",
      "INFO:tensorflow:loss = 2.892643, step = 26301 (0.209 sec)\n",
      "INFO:tensorflow:global_step/sec: 463.513\n",
      "INFO:tensorflow:loss = 0.44867402, step = 26401 (0.216 sec)\n",
      "INFO:tensorflow:global_step/sec: 451.696\n",
      "INFO:tensorflow:loss = 0.24001546, step = 26501 (0.221 sec)\n",
      "INFO:tensorflow:global_step/sec: 443.816\n",
      "INFO:tensorflow:loss = 0.45470905, step = 26601 (0.225 sec)\n",
      "INFO:tensorflow:global_step/sec: 448.663\n",
      "INFO:tensorflow:loss = 1.119173, step = 26701 (0.223 sec)\n",
      "INFO:tensorflow:global_step/sec: 427.649\n",
      "INFO:tensorflow:loss = 1.2037535, step = 26801 (0.234 sec)\n",
      "INFO:tensorflow:global_step/sec: 448.544\n",
      "INFO:tensorflow:loss = 0.755608, step = 26901 (0.223 sec)\n",
      "INFO:tensorflow:global_step/sec: 460.802\n",
      "INFO:tensorflow:loss = 0.52441543, step = 27001 (0.217 sec)\n",
      "INFO:tensorflow:global_step/sec: 467.343\n",
      "INFO:tensorflow:loss = 1.4670035, step = 27101 (0.214 sec)\n",
      "INFO:tensorflow:global_step/sec: 469.354\n",
      "INFO:tensorflow:loss = 0.10676827, step = 27201 (0.213 sec)\n",
      "INFO:tensorflow:global_step/sec: 471.993\n",
      "INFO:tensorflow:loss = 1.3823348, step = 27301 (0.212 sec)\n",
      "INFO:tensorflow:global_step/sec: 465.058\n",
      "INFO:tensorflow:loss = 0.14608166, step = 27401 (0.215 sec)\n",
      "INFO:tensorflow:global_step/sec: 468.907\n",
      "INFO:tensorflow:loss = 0.36633718, step = 27501 (0.213 sec)\n",
      "INFO:tensorflow:global_step/sec: 468.4\n",
      "INFO:tensorflow:loss = 0.2705265, step = 27601 (0.213 sec)\n",
      "INFO:tensorflow:global_step/sec: 461.354\n",
      "INFO:tensorflow:loss = 0.66615844, step = 27701 (0.217 sec)\n",
      "INFO:tensorflow:global_step/sec: 474.417\n"
     ]
    },
    {
     "name": "stdout",
     "output_type": "stream",
     "text": [
      "INFO:tensorflow:loss = 0.6533869, step = 27801 (0.211 sec)\n",
      "INFO:tensorflow:global_step/sec: 432.229\n",
      "INFO:tensorflow:loss = 0.5871739, step = 27901 (0.231 sec)\n",
      "INFO:tensorflow:global_step/sec: 414.127\n",
      "INFO:tensorflow:loss = 0.6607763, step = 28001 (0.242 sec)\n",
      "INFO:tensorflow:global_step/sec: 422.209\n",
      "INFO:tensorflow:loss = 1.1738409, step = 28101 (0.237 sec)\n",
      "INFO:tensorflow:global_step/sec: 450.874\n",
      "INFO:tensorflow:loss = 0.4725543, step = 28201 (0.222 sec)\n",
      "INFO:tensorflow:global_step/sec: 470.516\n",
      "INFO:tensorflow:loss = 0.31512043, step = 28301 (0.213 sec)\n",
      "INFO:tensorflow:global_step/sec: 473.537\n",
      "INFO:tensorflow:loss = 0.27934128, step = 28401 (0.211 sec)\n",
      "INFO:tensorflow:global_step/sec: 473.66\n",
      "INFO:tensorflow:loss = 1.11548, step = 28501 (0.211 sec)\n",
      "INFO:tensorflow:global_step/sec: 466.417\n",
      "INFO:tensorflow:loss = 0.5681414, step = 28601 (0.214 sec)\n",
      "INFO:tensorflow:global_step/sec: 462.462\n",
      "INFO:tensorflow:loss = 1.0751419, step = 28701 (0.216 sec)\n",
      "INFO:tensorflow:global_step/sec: 469.419\n",
      "INFO:tensorflow:loss = 0.074970655, step = 28801 (0.213 sec)\n",
      "INFO:tensorflow:global_step/sec: 466.57\n",
      "INFO:tensorflow:loss = 0.13896763, step = 28901 (0.214 sec)\n",
      "INFO:tensorflow:global_step/sec: 470.553\n",
      "INFO:tensorflow:loss = 0.6501959, step = 29001 (0.213 sec)\n",
      "INFO:tensorflow:global_step/sec: 472.162\n",
      "INFO:tensorflow:loss = 0.10069635, step = 29101 (0.212 sec)\n",
      "INFO:tensorflow:global_step/sec: 438.902\n",
      "INFO:tensorflow:loss = 0.45844716, step = 29201 (0.228 sec)\n",
      "INFO:tensorflow:global_step/sec: 407.962\n",
      "INFO:tensorflow:loss = 0.16765232, step = 29301 (0.245 sec)\n",
      "INFO:tensorflow:global_step/sec: 474.728\n",
      "INFO:tensorflow:loss = 0.042103272, step = 29401 (0.211 sec)\n",
      "INFO:tensorflow:global_step/sec: 439.301\n",
      "INFO:tensorflow:loss = 0.06147084, step = 29501 (0.228 sec)\n",
      "INFO:tensorflow:global_step/sec: 449.803\n",
      "INFO:tensorflow:loss = 0.26588777, step = 29601 (0.222 sec)\n",
      "INFO:tensorflow:global_step/sec: 443.221\n",
      "INFO:tensorflow:loss = 0.37676045, step = 29701 (0.226 sec)\n",
      "INFO:tensorflow:global_step/sec: 457.196\n",
      "INFO:tensorflow:loss = 1.3910712, step = 29801 (0.219 sec)\n",
      "INFO:tensorflow:global_step/sec: 452.685\n",
      "INFO:tensorflow:loss = 0.71017253, step = 29901 (0.221 sec)\n",
      "INFO:tensorflow:global_step/sec: 447.421\n",
      "INFO:tensorflow:loss = 0.11819009, step = 30001 (0.224 sec)\n",
      "INFO:tensorflow:global_step/sec: 444.029\n",
      "INFO:tensorflow:loss = 1.3130273, step = 30101 (0.225 sec)\n",
      "INFO:tensorflow:global_step/sec: 438.033\n",
      "INFO:tensorflow:loss = 0.07154709, step = 30201 (0.229 sec)\n",
      "INFO:tensorflow:global_step/sec: 425.445\n",
      "INFO:tensorflow:loss = 0.17105226, step = 30301 (0.235 sec)\n",
      "INFO:tensorflow:global_step/sec: 448.901\n",
      "INFO:tensorflow:loss = 0.82218874, step = 30401 (0.222 sec)\n",
      "INFO:tensorflow:global_step/sec: 438.522\n",
      "INFO:tensorflow:loss = 0.13133538, step = 30501 (0.230 sec)\n",
      "INFO:tensorflow:global_step/sec: 434.979\n",
      "INFO:tensorflow:loss = 0.14708689, step = 30601 (0.228 sec)\n",
      "INFO:tensorflow:global_step/sec: 464.18\n",
      "INFO:tensorflow:loss = 0.27756897, step = 30701 (0.215 sec)\n",
      "INFO:tensorflow:global_step/sec: 459.691\n",
      "INFO:tensorflow:loss = 1.7909813, step = 30801 (0.217 sec)\n",
      "INFO:tensorflow:global_step/sec: 436.299\n",
      "INFO:tensorflow:loss = 0.76273066, step = 30901 (0.230 sec)\n",
      "INFO:tensorflow:Saving checkpoints for 31000 into ./tmp/mnist_model_256_256/model.ckpt.\n",
      "INFO:tensorflow:Loss for final step: 0.05608749.\n"
     ]
    },
    {
     "data": {
      "text/plain": [
       "<tensorflow.python.estimator.canned.dnn.DNNClassifier at 0x7fa3bbc1e320>"
      ]
     },
     "execution_count": 6,
     "metadata": {},
     "output_type": "execute_result"
    }
   ],
   "source": [
    "tf.logging.set_verbosity(tf.logging.INFO)\n",
    "classifier.train(input_fn=train_input_fn, steps=10000)"
   ]
  },
  {
   "cell_type": "code",
   "execution_count": 7,
   "metadata": {
    "ExecuteTime": {
     "end_time": "2018-06-05T23:10:29.998938Z",
     "start_time": "2018-06-05T23:10:29.578963Z"
    },
    "slideshow": {
     "slide_type": "subslide"
    }
   },
   "outputs": [
    {
     "name": "stdout",
     "output_type": "stream",
     "text": [
      "-rw-r--r-- 1 ccc_v1_t_TS0f_161889 ccc_v1_t_TS0f_161889      16 Sep 28 18:42 model.ckpt-21000.data-00000-of-00002\r\n",
      "-rw-r--r-- 1 ccc_v1_t_TS0f_161889 ccc_v1_t_TS0f_161889 3231864 Sep 28 18:42 model.ckpt-21000.data-00001-of-00002\r\n",
      "-rw-rw-rw- 1 ccc_v1_t_TS0f_161889 ccc_v1_t_TS0f_161889     839 Sep 28 18:42 model.ckpt-21000.index\r\n",
      "-rw-r--r-- 1 ccc_v1_t_TS0f_161889 ccc_v1_t_TS0f_161889  161904 Sep 28 18:42 model.ckpt-21000.meta\r\n",
      "-rw-r--r-- 1 ccc_v1_t_TS0f_161889 ccc_v1_t_TS0f_161889      16 Sep 28 18:43 model.ckpt-31000.data-00000-of-00002\r\n",
      "-rw-r--r-- 1 ccc_v1_t_TS0f_161889 ccc_v1_t_TS0f_161889 3231864 Sep 28 18:43 model.ckpt-31000.data-00001-of-00002\r\n",
      "-rw-r--r-- 1 ccc_v1_t_TS0f_161889 ccc_v1_t_TS0f_161889     839 Sep 28 18:43 model.ckpt-31000.index\r\n",
      "-rw-r--r-- 1 ccc_v1_t_TS0f_161889 ccc_v1_t_TS0f_161889     276 Sep 28 18:43 checkpoint\r\n",
      "-rw-r--r-- 1 ccc_v1_t_TS0f_161889 ccc_v1_t_TS0f_161889  161904 Sep 28 18:43 model.ckpt-31000.meta\r\n",
      "-rw-r--r-- 1 ccc_v1_t_TS0f_161889 ccc_v1_t_TS0f_161889 1086873 Sep 28 18:43 events.out.tfevents.1569721360.ip-172-31-19-229\r\n"
     ]
    }
   ],
   "source": [
    "# Have a look at the checkpoint directory.\n",
    "!ls -lrt ./tmp/mnist_model_256_256/ | tail"
   ]
  },
  {
   "cell_type": "markdown",
   "metadata": {
    "slideshow": {
     "slide_type": "subslide"
    }
   },
   "source": [
    "## Define test input function"
   ]
  },
  {
   "cell_type": "code",
   "execution_count": 8,
   "metadata": {
    "ExecuteTime": {
     "end_time": "2018-06-05T19:53:13.190674Z",
     "start_time": "2018-06-05T19:53:13.182678Z"
    },
    "collapsed": true,
    "slideshow": {
     "slide_type": "fragment"
    }
   },
   "outputs": [],
   "source": [
    "test_input_fn = tf.estimator.inputs.numpy_input_fn(\n",
    "    x={\"x\": input(mnist.test)[0]},\n",
    "    y=input(mnist.test)[1],\n",
    "    num_epochs=1,\n",
    "    shuffle=False\n",
    ")"
   ]
  },
  {
   "cell_type": "markdown",
   "metadata": {
    "ExecuteTime": {
     "end_time": "2018-06-05T19:06:04.158220Z",
     "start_time": "2018-06-05T19:06:03.540885Z"
    },
    "slideshow": {
     "slide_type": "subslide"
    }
   },
   "source": [
    "## Evaluate accuracy"
   ]
  },
  {
   "cell_type": "code",
   "execution_count": 9,
   "metadata": {
    "ExecuteTime": {
     "end_time": "2018-06-05T19:53:15.521541Z",
     "start_time": "2018-06-05T19:53:14.970007Z"
    },
    "slideshow": {
     "slide_type": "fragment"
    }
   },
   "outputs": [
    {
     "name": "stdout",
     "output_type": "stream",
     "text": [
      "INFO:tensorflow:Calling model_fn.\n",
      "INFO:tensorflow:Done calling model_fn.\n",
      "INFO:tensorflow:Starting evaluation at 2019-09-29-01:43:03\n",
      "INFO:tensorflow:Graph was finalized.\n",
      "INFO:tensorflow:Restoring parameters from ./tmp/mnist_model_256_256/model.ckpt-31000\n",
      "INFO:tensorflow:Running local_init_op.\n",
      "INFO:tensorflow:Done running local_init_op.\n",
      "INFO:tensorflow:Finished evaluation at 2019-09-29-01:43:03\n",
      "INFO:tensorflow:Saving dict for global step 31000: accuracy = 0.9798, average_loss = 0.07394399, global_step = 31000, loss = 9.359999\n",
      "INFO:tensorflow:Saving 'checkpoint_path' summary for global step 31000: ./tmp/mnist_model_256_256/model.ckpt-31000\n",
      "\n",
      "Test Accuracy: 97.979999%\n",
      "\n"
     ]
    }
   ],
   "source": [
    "accuracy_score = classifier.evaluate(input_fn=test_input_fn)[\"accuracy\"]\n",
    "print(\"\\nTest Accuracy: {0:f}%\\n\".format(accuracy_score*100))"
   ]
  },
  {
   "cell_type": "code",
   "execution_count": null,
   "metadata": {
    "collapsed": true
   },
   "outputs": [],
   "source": []
  }
 ],
 "metadata": {
  "celltoolbar": "Slideshow",
  "kernelspec": {
   "display_name": "Python 3 [3.6]",
   "language": "python",
   "name": "python3"
  },
  "language_info": {
   "codemirror_mode": {
    "name": "ipython",
    "version": 3
   },
   "file_extension": ".py",
   "mimetype": "text/x-python",
   "name": "python",
   "nbconvert_exporter": "python",
   "pygments_lexer": "ipython3",
   "version": "3.6.4"
  },
  "toc": {
   "base_numbering": 1,
   "nav_menu": {},
   "number_sections": true,
   "sideBar": true,
   "skip_h1_title": false,
   "title_cell": "Table of Contents",
   "title_sidebar": "Contents",
   "toc_cell": false,
   "toc_position": {},
   "toc_section_display": true,
   "toc_window_display": false
  },
  "varInspector": {
   "cols": {
    "lenName": 16,
    "lenType": 16,
    "lenVar": 40
   },
   "kernels_config": {
    "python": {
     "delete_cmd_postfix": "",
     "delete_cmd_prefix": "del ",
     "library": "var_list.py",
     "varRefreshCmd": "print(var_dic_list())"
    },
    "r": {
     "delete_cmd_postfix": ") ",
     "delete_cmd_prefix": "rm(",
     "library": "var_list.r",
     "varRefreshCmd": "cat(var_dic_list()) "
    }
   },
   "types_to_exclude": [
    "module",
    "function",
    "builtin_function_or_method",
    "instance",
    "_Feature"
   ],
   "window_display": false
  }
 },
 "nbformat": 4,
 "nbformat_minor": 2
}
